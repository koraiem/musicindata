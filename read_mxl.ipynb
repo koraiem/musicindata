{
 "cells": [
  {
   "cell_type": "code",
   "execution_count": null,
   "id": "conditional-colors",
   "metadata": {},
   "outputs": [],
   "source": [
    "import sys\n",
    "import os\n",
    "\n",
    "print(sys.path, '\\n')\n",
    "print(sys.path, '\\n')\n",
    "\n",
    "import numpy as np\n",
    "from matplotlib import pyplot as plt\n",
    "from matplotlib import patches\n",
    "import pandas as pd\n",
    "import IPython.display as ipd\n",
    "import music21 as m21\n",
    "import libfmp.c1\n",
    "\n",
    "notebook_path = os.path.abspath(\"Notebook.ipynb\")"
   ]
  },
  {
   "cell_type": "code",
   "execution_count": null,
   "id": "homeless-brunei",
   "metadata": {},
   "outputs": [],
   "source": [
    "fn = os.path.join(os.path.dirname(notebook_path), 'canond.mxl')\n",
    "\n",
    "with open(fn, 'r', encoding='utf-8') as stream:\n",
    "    xml_str = stream.read()\n",
    "\n",
    "start = xml_str.find('<note')\n",
    "end = xml_str[start:].find('</note>') + start + len('</note>')\n",
    "print(xml_str[start:end])"
   ]
  },
  {
   "cell_type": "code",
   "execution_count": null,
   "id": "specified-privilege",
   "metadata": {},
   "outputs": [],
   "source": [
    "fn = os.path.join(os.path.dirname(notebook_path), 'canond.mxl')"
   ]
  },
  {
   "cell_type": "code",
   "execution_count": null,
   "id": "applicable-behalf",
   "metadata": {},
   "outputs": [],
   "source": [
    "def xml_to_list(xml_data):\n",
    "    xml_list = []\n",
    "\n",
    "    for part in xml_data.parts:\n",
    "        instrument = part.getInstrument().instrumentName\n",
    "\n",
    "        for note in part.flat.notes:\n",
    "\n",
    "            if note.isChord:\n",
    "                start = note.offset\n",
    "                duration = note.quarterLength\n",
    "\n",
    "                for chord_note in note.pitches:\n",
    "                    pitch = chord_note.ps\n",
    "                    volume = note.volume.realized\n",
    "                    xml_list.append([start, duration, pitch, volume, instrument])\n",
    "\n",
    "            else:\n",
    "                start = note.offset\n",
    "                duration = note.quarterLength\n",
    "                pitch = note.pitch.ps\n",
    "                volume = note.volume.realized\n",
    "                xml_list.append([start, duration, pitch, volume, instrument])\n",
    "                \n",
    "    xml_list = sorted(xml_list, key=lambda x: (x[0], x[2]))\n",
    "    return xml_list\n",
    "\n",
    "xml_data = m21.converter.parse(fn)\n",
    "xml_list = xml_to_list(xml_data)\n",
    "\n",
    "df = pd.DataFrame(xml_list[:9], columns=['Start', 'End', 'Pitch', 'Velocity', 'Instrument'])\n",
    "html = df.to_html(index=False, float_format='%.2f', max_rows=8)\n",
    "ipd.HTML(html)"
   ]
  },
  {
   "cell_type": "code",
   "execution_count": null,
   "id": "going-outside",
   "metadata": {},
   "outputs": [],
   "source": [
    "libfmp.c1.visualize_piano_roll(xml_list, figsize=(8, 3), velocity_alpha=True,\n",
    "                               xlabel='Time (quarter lengths)');"
   ]
  },
  {
   "cell_type": "code",
   "execution_count": null,
   "id": "seeing-closing",
   "metadata": {},
   "outputs": [],
   "source": [
    "#fn = os.path.join('..', 'data', 'C1', 'FMP_C1_F10_Beethoven_Fifth-MM1-20_Sibelius-Orchestra.xml')\n",
    "xml_data = m21.converter.parse(fn)\n",
    "xml_list = xml_to_list(xml_data)\n",
    "libfmp.c1.visualize_piano_roll(xml_list, figsize=(10, 7), velocity_alpha=False,\n",
    "                               colors='gist_rainbow', xlabel='Time (quarter lengths)');"
   ]
  },
  {
   "cell_type": "code",
   "execution_count": null,
   "id": "ready-cylinder",
   "metadata": {},
   "outputs": [],
   "source": [
    "#fn = os.path.join('..', 'data', 'C1', 'FMP_C1_F10_Beethoven_Fifth-MM1-20_Sibelius-Orchestra.xml')\n",
    "fn_out = os.path.join(os.path.dirname(notebook_path), 'sym9.csv')\n",
    "xml_data = m21.converter.parse(fn)\n",
    "xml_list = xml_to_list(xml_data)\n",
    "df = pd.DataFrame(xml_list, columns=['Start', 'End', 'Pitch', 'Velocity', 'Instrument'])\n",
    "df.to_csv(fn_out, sep=';', quoting=2, float_format='%.3f')\n",
    "\n",
    "print('Score as list:')\n",
    "print(xml_list[0:3])\n",
    "print('\\n')\n",
    "\n",
    "print('Score as pandas DataFrame')\n",
    "print(df.loc[0:2,:])\n",
    "print('\\n')\n",
    "\n",
    "print('Score as CSV')\n",
    "print(fn_out)\n",
    "with open(fn_out, 'r', encoding='utf-8') as file:\n",
    "    csv_str = file.readlines()\n",
    "print(csv_str[0:4])"
   ]
  },
  {
   "cell_type": "code",
   "execution_count": null,
   "id": "linear-machinery",
   "metadata": {},
   "outputs": [],
   "source": [
    "import sys\n",
    "sys.path.append('..')\n",
    "import libfmp.c1\n",
    "\n",
    "fn = os.path.join(os.path.dirname(notebook_path), 'canond.mxl')\n",
    "fn_out = os.path.join(os.path.dirname(notebook_path), 'canond-2.csv')\n",
    "\n",
    "score = libfmp.c1.xml_to_list(fn)\n",
    "libfmp.c1.visualize_piano_roll(xml_list, figsize=(10, 7), velocity_alpha=False,\n",
    "                               colors='gist_rainbow', xlabel='Time (quarter lengths)')\n",
    "libfmp.c1.list_to_csv(score, fn_out)"
   ]
  },
  {
   "cell_type": "code",
   "execution_count": null,
   "id": "direct-democrat",
   "metadata": {},
   "outputs": [],
   "source": []
  }
 ],
 "metadata": {
  "kernelspec": {
   "display_name": "Python 3",
   "language": "python",
   "name": "python3"
  },
  "language_info": {
   "codemirror_mode": {
    "name": "ipython",
    "version": 3
   },
   "file_extension": ".py",
   "mimetype": "text/x-python",
   "name": "python",
   "nbconvert_exporter": "python",
   "pygments_lexer": "ipython3",
   "version": "3.7.10"
  }
 },
 "nbformat": 4,
 "nbformat_minor": 5
}
